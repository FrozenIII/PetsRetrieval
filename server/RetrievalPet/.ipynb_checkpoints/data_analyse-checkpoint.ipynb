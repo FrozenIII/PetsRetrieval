{
 "cells": [
  {
   "cell_type": "code",
   "execution_count": 3,
   "metadata": {},
   "outputs": [],
   "source": [
    "from PIL import Image\n",
    "import numpy as np\n",
    "import random\n",
    "import os\n",
    "import pickle"
   ]
  },
  {
   "cell_type": "code",
   "execution_count": 4,
   "metadata": {},
   "outputs": [],
   "source": [
    "filelist=[]\n",
    "test_class=[\"wheaten_terrier\",\n",
    "            \"english_cocker_spaniel\",\n",
    "            \"great_pyrenees\",\n",
    "            \"Egyptian_Mau\",\n",
    "            \"basset_hound\",\n",
    "            \"Abyssinian\",\n",
    "            \"Siamese\",\n",
    "            \"newfoundland\",\n",
    "            \"chihuahua\",\n",
    "            \"miniature_pinscher\",]\n",
    "dic_train={}\n",
    "dic_test={}\n",
    "for root, dirs, files in os.walk(\"../images/images/\"):\n",
    "    for f in files:\n",
    "#         print(f)\n",
    "        filelist.append(os.path.join(root, f))\n",
    "        num=f.split(\".\")[0].split(\"_\")[-1]\n",
    "        label=f[0:len(f)-len(num)-5]\n",
    "        if label in test_class:\n",
    "            dic_test[f]=label\n",
    "        else:\n",
    "            dic_train[f]=label"
   ]
  },
  {
   "cell_type": "code",
   "execution_count": 5,
   "metadata": {},
   "outputs": [],
   "source": [
    "cids=[]\n",
    "cluster=[]\n",
    "for i in dic_train:\n",
    "    cids.append(i)\n",
    "    cluster.append(dic_train[i])\n",
    "cluster_num_dic={}\n",
    "labelll=0\n",
    "for i in cluster:\n",
    "    if i not in cluster_num_dic:\n",
    "        cluster_num_dic[i]=labelll\n",
    "        labelll+=1\n",
    "# len(set(train_list+dic))\n",
    "clu_dic={}\n",
    "for idx,clu_id in enumerate(cluster):\n",
    "    if clu_id not in clu_dic:\n",
    "        clu_dic[clu_id]=[]\n",
    "    clu_dic[clu_id].append(idx)"
   ]
  },
  {
   "cell_type": "code",
   "execution_count": 6,
   "metadata": {},
   "outputs": [],
   "source": [
    "qidx=[]\n",
    "pidx=[]\n",
    "for mou_clu in clu_dic:\n",
    "    list_id=clu_dic[mou_clu]\n",
    "    for j in range(int(len(list_id)/2)):\n",
    "        qidx.append(list_id[j])\n",
    "    for j in range(int(len(list_id)/2), len(list_id)-len(list_id)%2):\n",
    "        pidx.append(list_id[j])"
   ]
  },
  {
   "cell_type": "code",
   "execution_count": 93,
   "metadata": {
    "scrolled": true
   },
   "outputs": [],
   "source": [
    "pet_train={}\n",
    "pet_train['train']={}\n",
    "pet_train['train']['qidxs']=qidx\n",
    "pet_train['train']['pidxs']=pidx\n",
    "pet_train['train']['cids']=cids\n",
    "pet_train['train']['cluster']=cluster\n",
    "pet_train['train']['clu_dic']=clu_dic\n",
    "pet_train['train']['cluster_num_dic']=cluster_num_dic\n",
    "with open(\"../images/pet_train.pkl\",'wb') as f:\n",
    "    f.write( pickle.dumps(pet_train))"
   ]
  },
  {
   "cell_type": "code",
   "execution_count": 7,
   "metadata": {},
   "outputs": [],
   "source": [
    "new_test_gnd={}\n",
    "new_test_gnd['gnd_name']=[]\n",
    "new_test_gnd['gnd_id']=[]\n",
    "new_test_gnd['imlist']=[]\n",
    "new_test_gnd['qimlist']=[]\n",
    "cids_test=[]\n",
    "cluster_test=[]\n",
    "for i in dic_test:\n",
    "    cids_test.append(i)\n",
    "    cluster_test.append(dic_test[i])\n",
    "clu_dic_test={}\n",
    "for idx,clu_id in enumerate(cluster_test):\n",
    "    if clu_id not in clu_dic_test:\n",
    "        clu_dic_test[clu_id]=[]\n",
    "    clu_dic_test[clu_id].append(idx)\n",
    "picked=[0,3,5,8,14]\n",
    "new_test_gnd['imlist']=cids_test\n",
    "for i in clu_dic_test:\n",
    "    for m, query_num in enumerate(picked):\n",
    "        new_test_gnd['qimlist'].append(cids_test[clu_dic_test[i][query_num]])\n",
    "        gnd_name={'ok':[]}\n",
    "        gnd_id={'ok':[]}                \n",
    "        for j in range(0,len(clu_dic_test[i])):\n",
    "            if j!=query_num:\n",
    "                gnd_name['ok'].append(cids_test[clu_dic_test[i][j]])\n",
    "                gnd_id['ok'].append(clu_dic_test[i][j])\n",
    "        new_test_gnd['gnd_name'].append(gnd_name)\n",
    "        new_test_gnd['gnd_id'].append(gnd_id)"
   ]
  },
  {
   "cell_type": "code",
   "execution_count": 84,
   "metadata": {},
   "outputs": [],
   "source": [
    "with open(\"../images/pet_test.pkl\",'wb') as f:\n",
    "    f.write( pickle.dumps(new_test_gnd))"
   ]
  }
 ],
 "metadata": {
  "kernelspec": {
   "display_name": "tf10",
   "language": "python",
   "name": "tf10"
  },
  "language_info": {
   "codemirror_mode": {
    "name": "ipython",
    "version": 3
   },
   "file_extension": ".py",
   "mimetype": "text/x-python",
   "name": "python",
   "nbconvert_exporter": "python",
   "pygments_lexer": "ipython3",
   "version": "3.6.9"
  }
 },
 "nbformat": 4,
 "nbformat_minor": 2
}
