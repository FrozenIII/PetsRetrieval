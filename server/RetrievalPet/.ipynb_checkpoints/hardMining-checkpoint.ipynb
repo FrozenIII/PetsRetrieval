{
 "cells": [
  {
   "cell_type": "markdown",
   "metadata": {},
   "source": [
    "找到每个cluster里面分数最低的每对向量组,qvecs对应的是qids提取的向量，vecs对应的是pidx提取的向量"
   ]
  },
  {
   "cell_type": "code",
   "execution_count": 18,
   "metadata": {},
   "outputs": [
    {
     "name": "stdout",
     "output_type": "stream",
     "text": [
      "(2048, 5389)\n"
     ]
    }
   ],
   "source": [
    "import os\n",
    "import torch\n",
    "import numpy as np\n",
    "import copy\n",
    "import tqdm\n",
    "import pickle\n",
    "vecs=np.load('/root/server/EXPORT_DIR=petModel/pet_resnet101_gem_softmax_m0.70/_adam_lr1.0e-06_wd1.0e-04_gid1/'+\n",
    "             '_nnum5_qsize17645_psize2000/_bsize16_imsize1024/model_epoch3/pet_vecs_ep3_resize.npy')\n",
    "os.environ[\"CUDA_VISIBLE_DEVICES\"] = \"2\"\n",
    "with open('/root/server/images/pet_train.pkl', 'rb') as f:\n",
    "    gnd_train = pickle.load(f)\n",
    "cids=gnd_train['train']['cids']\n",
    "clu_dic=gnd_train['train']['clu_dic']\n",
    "cluster=gnd_train['train']['cluster']\n",
    "print(vecs.shape)"
   ]
  },
  {
   "cell_type": "code",
   "execution_count": 10,
   "metadata": {
    "scrolled": true
   },
   "outputs": [
    {
     "name": "stdout",
     "output_type": "stream",
     "text": [
      "1 199\n",
      "2 200\n",
      "3 200\n",
      "4 200\n",
      "5 200\n",
      "6 200\n",
      "7 200\n",
      "8 200\n",
      "9 200\n",
      "10 200\n",
      "11 200\n",
      "12 200\n",
      "13 199\n",
      "14 200\n",
      "15 200\n",
      "16 200\n",
      "17 200\n",
      "18 191\n",
      "19 200\n",
      "20 200\n",
      "21 200\n",
      "22 200\n",
      "23 200\n",
      "24 200\n",
      "25 200\n",
      "26 200\n",
      "27 200\n"
     ]
    }
   ],
   "source": [
    "##clu_vec里面应该存的是一个方阵\n",
    "# clu_vec=copy.deepcopy(clu_dic)\n",
    "new_qidx=[]\n",
    "new_pidx=[]\n",
    "num_clu_mou=0\n",
    "all_cont=0\n",
    "with torch.no_grad():\n",
    "    for mou_clu in clu_dic:\n",
    "        num_clu_mou+=1\n",
    "        list_id=clu_dic[mou_clu]\n",
    "        print (num_clu_mou,len(list_id))\n",
    "        vecc=np.zeros([2048,len(list_id)],dtype=np.float32)\n",
    "        vecc=np.zeros([2048,len(list_id)],dtype=np.float32)\n",
    "        for j in range(len(list_id)):\n",
    "            vecc[:,j]=vecs[:,list_id[j]]\n",
    "        vecc = torch.from_numpy(vecc).cuda()\n",
    "        vecc.requires_grad_(False)\n",
    "        score=torch.mm(vecc.transpose(1,0),vecc)\n",
    "        assert score.shape[0]==len(list_id) and score.shape[1]==len(list_id)\n",
    "#             把现有的score矩阵拉伸为向量\n",
    "        new_score=torch.zeros(int(score.shape[0]*(score.shape[0]-1)/2)).cuda()            \n",
    "        new_iddui=[]                      \n",
    "        count=0\n",
    "        for i in range(0,score.shape[0]):\n",
    "            for j in range(i+1,score.shape[1]):\n",
    "                new_iddui.append([list_id[i],list_id[j]])\n",
    "                new_score[count]=score[i][j] \n",
    "                count+=1\n",
    "        assert new_score.shape[0]==len(new_iddui)\n",
    "        ranks=torch.sort(new_score)[1]\n",
    "        new_new_iddui=[]\n",
    "        if len(ranks)>=370:\n",
    "            for i in range(370):\n",
    "                new_new_iddui.append(new_iddui[ranks[i]])\n",
    "        else:\n",
    "            for i in range(len(ranks)):\n",
    "                new_new_iddui.append(new_iddui[ranks[i]])\n",
    "        for i in new_new_iddui:\n",
    "            new_qidx.append(i[0])\n",
    "            new_pidx.append(i[1])\n",
    "        torch.cuda.empty_cache()"
   ]
  },
  {
   "cell_type": "code",
   "execution_count": 19,
   "metadata": {},
   "outputs": [],
   "source": [
    "for i in range(len(new_pidx)):\n",
    "    assert cluster[new_pidx[i]]==cluster[new_qidx[i]]"
   ]
  },
  {
   "cell_type": "code",
   "execution_count": 20,
   "metadata": {},
   "outputs": [],
   "source": [
    "gnd_train['train']['qidxs']=new_qidx\n",
    "gnd_train['train']['pidxs']=new_pidx\n",
    "with open(\"../images/pet_train_hard.pkl\",'wb') as f:\n",
    "    f.write( pickle.dumps(gnd_train))"
   ]
  },
  {
   "cell_type": "code",
   "execution_count": null,
   "metadata": {},
   "outputs": [],
   "source": []
  }
 ],
 "metadata": {
  "kernelspec": {
   "display_name": "tf10",
   "language": "python",
   "name": "tf10"
  },
  "language_info": {
   "codemirror_mode": {
    "name": "ipython",
    "version": 3
   },
   "file_extension": ".py",
   "mimetype": "text/x-python",
   "name": "python",
   "nbconvert_exporter": "python",
   "pygments_lexer": "ipython3",
   "version": "3.6.9"
  }
 },
 "nbformat": 4,
 "nbformat_minor": 2
}
